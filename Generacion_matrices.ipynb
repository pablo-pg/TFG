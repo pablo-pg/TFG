{
  "nbformat": 4,
  "nbformat_minor": 0,
  "metadata": {
    "colab": {
      "provenance": []
    },
    "kernelspec": {
      "name": "python3",
      "display_name": "Python 3"
    },
    "language_info": {
      "name": "python"
    },
    "gpuClass": "standard"
  },
  "cells": [
    {
      "cell_type": "markdown",
      "source": [
        "## Importing libraries"
      ],
      "metadata": {
        "id": "-6qRRrseicOu"
      }
    },
    {
      "cell_type": "code",
      "source": [
        "import numpy as np\n",
        "import random\n",
        "import pandas\n",
        "import re\n",
        "import cv2"
      ],
      "metadata": {
        "id": "M1PRONnfQTea"
      },
      "execution_count": null,
      "outputs": []
    },
    {
      "cell_type": "markdown",
      "source": [
        "## Class definition"
      ],
      "metadata": {
        "id": "CJzGFtrsiZ7G"
      }
    },
    {
      "cell_type": "code",
      "execution_count": null,
      "metadata": {
        "id": "EXWv7vl4KE11"
      },
      "outputs": [],
      "source": [
        "class Room:\n",
        "  objects = [\"table\", \"chair\", \"door\"]\n",
        "  def __init__(self, size):\n",
        "    self.matrix = np.zeros(size, dtype=int)\n",
        "    self.text = []\n",
        "    self.objectsCount = {}\n",
        "\n",
        "  def addObject(self, objectName: str, objectSize: int, position: str):\n",
        "\n",
        "    objectValue = self.objects.index(objectName) + 1\n",
        "\n",
        "    if not objectName in self.objectsCount:\n",
        "      self.objectsCount[objectName] = {\n",
        "          \"count\": 1,\n",
        "          \"positions\": [position]\n",
        "      }\n",
        "    else:\n",
        "      self.objectsCount[objectName][\"count\"] += 1\n",
        "      self.objectsCount[objectName][\"positions\"].append(position)\n",
        "\n",
        "    size_str = \"\"\n",
        "    if objectSize == 1:\n",
        "      size_str = \"small\"\n",
        "    elif objectSize == 2:\n",
        "      size_str = \"medium\"\n",
        "    elif objectSize == 3:\n",
        "      size_str = \"big\"\n",
        "    else:\n",
        "      size_str = \"very big\"\n",
        "\n",
        "    submatrix_size = objectSize\n",
        "    submatrix_row = None\n",
        "    submatrix_column = None\n",
        "\n",
        "    if \"center\" in position or \"middle\" in position:\n",
        "      submatrix_row = (self.matrix.shape[0] - objectSize) // 2\n",
        "    if \"top\" in position or \"up\" in position:\n",
        "      submatrix_row = 0\n",
        "    if \"bottom\" in position or \"down\" in position:\n",
        "      submatrix_row = (self.matrix.shape[0] - objectSize)\n",
        "\n",
        "    if \"center\" in position or \"middle\" in position:\n",
        "      submatrix_column = (self.matrix.shape[1] - objectSize) // 2\n",
        "    if \"left\" in position:\n",
        "      submatrix_column = 0\n",
        "    if \"right\" in position:\n",
        "      submatrix_column = (self.matrix.shape[1] - objectSize)\n",
        "\n",
        "    #print(f\"{submatrix_row}:{submatrix_row+submatrix_size}, {submatrix_column}:{submatrix_column+submatrix_size}\")\n",
        "\n",
        "    self.matrix[submatrix_row : submatrix_row + submatrix_size,\n",
        "               submatrix_column : submatrix_column + submatrix_size] = np.full((submatrix_size, submatrix_size), objectValue)\n",
        "\n",
        "    # if self.text == \"\":\n",
        "    #   self.text = \"A \" + size_str + \" \" + objectName + \" at \" + position\n",
        "    # else:\n",
        "    #   self.text = self.text.replace(\" and a\", \",\")\n",
        "    #   self.text = self.text + \" and a \" + size_str + \" \" + objectName + \" at \" + position\n",
        "\n",
        "\n",
        "  def generateText(self):\n",
        "    self.text = []\n",
        "    # Modo lista\n",
        "    text = \"There \"\n",
        "    if len(self.objectsCount.values()) > 1 or list(self.objectsCount.values())[0][\"count\"] > 1:\n",
        "      text += \"are \"\n",
        "    else:\n",
        "      text += \"is \"\n",
        "\n",
        "    for roomObject in self.objectsCount:\n",
        "      if roomObject == list(self.objectsCount.keys())[-1]:\n",
        "        text = text[:-2]\n",
        "        text += \" and \"\n",
        "      text += (str(self.objectsCount[roomObject][\"count\"]) + \" \") if (self.objectsCount[roomObject][\"count\"] > 1) else \"a \"\n",
        "      text += roomObject + (\"s at \" if (self.objectsCount[roomObject][\"count\"] > 1) else \" at \")\n",
        "      for position in self.objectsCount[roomObject][\"positions\"]:\n",
        "        text += position + \", \"\n",
        "    text = text[:-2]\n",
        "    self.text.append(text)\n",
        "\n",
        "    # Relación centro-bordes-esquinas\n",
        "    text = \"\"\n",
        "    corners_count = 0\n",
        "    corners_objects = []\n",
        "    center_count = 0\n",
        "    center_objects = []\n",
        "    edges_count = 0\n",
        "    edges_objects = []\n",
        "    for roomObject in self.objectsCount:\n",
        "      # print(roomObject, \" -> \", self.objectsCount[roomObject])\n",
        "      for position in self.objectsCount[roomObject][\"positions\"]:\n",
        "        if \"center\" not in position:\n",
        "          corners_count += 1\n",
        "          if not roomObject in corners_objects and not (roomObject + \"s\") in corners_objects:\n",
        "            corners_objects.append(roomObject)\n",
        "          elif roomObject in corners_objects:\n",
        "            corners_objects[corners_objects.index(roomObject)] += \"s\"\n",
        "        elif position == \"center\":\n",
        "          center_count += 1\n",
        "          if not roomObject in center_objects and not (roomObject + \"s\") in center_objects:\n",
        "            center_objects.append(roomObject)\n",
        "          elif roomObject in center_objects:\n",
        "            center_objects[center_objects.index(roomObject)] += \"s\"\n",
        "        else:\n",
        "          edges_count += 1\n",
        "          if not roomObject in edges_objects and not (roomObject + \"s\") in edges_objects:\n",
        "            edges_objects.append(roomObject)\n",
        "          elif roomObject in edges_objects:\n",
        "            edges_objects[edges_objects.index(roomObject)] += \"s\"\n",
        "    text += \"Some \"\n",
        "    # print(center_count, corners_count, edges_count)\n",
        "    if corners_count > 0:\n",
        "      for roomObject in corners_objects:\n",
        "        text += roomObject + \", \"\n",
        "      text = text[:-2]\n",
        "      # Cambia la ultima coma por un and\n",
        "      text = re.sub(r',\\s*([^,]+)$', r' and \\1', text)\n",
        "      text += \" are located in the corners\"\n",
        "      if edges_count > 0:\n",
        "        if center_count == 0:\n",
        "          text += \" and some \"\n",
        "        else:\n",
        "          text += \", some \"\n",
        "        for roomObject in edges_objects:\n",
        "          text += roomObject + \", \"\n",
        "        text = text[:-2]\n",
        "        if edges_count > 1:\n",
        "          text = re.sub(r',\\s*([^,]+)$', r' and \\1', text)\n",
        "        text += \" at the edges \"\n",
        "      if center_count > 0:\n",
        "        text += \"and some \"\n",
        "        for roomObject in center_objects:\n",
        "          text += roomObject + \", \"\n",
        "        text = text[:-2]\n",
        "        if center_count > 1:\n",
        "          text = re.sub(r',\\s*([^,]+)$', r' and \\1', text)\n",
        "        text += \" in the center\"\n",
        "    elif edges_count > 0:\n",
        "      for roomObject in edges_objects:\n",
        "        text += roomObject + \", \"\n",
        "      text = text[:-2]\n",
        "      text = re.sub(r',\\s*([^,]+)$', r' and \\1', text)\n",
        "      text += \" are located at the edges\"\n",
        "      if corners_count > 0:\n",
        "        if center_count == 0:\n",
        "          text += \" and some \"\n",
        "        else:\n",
        "          text += \", some \"\n",
        "        for roomObject in corners_objects:\n",
        "          text += roomObject + \", \"\n",
        "        text = text[:-2]\n",
        "        if corners_count > 1:\n",
        "          text = re.sub(r',\\s*([^,]+)$', r' and \\1', text)\n",
        "        text += \" in the corners \"\n",
        "      if center_count > 0:\n",
        "        text += \"and some \"\n",
        "        for roomObject in center_objects:\n",
        "          text += roomObject + \", \"\n",
        "        text = text[:-2]\n",
        "        if center_count > 1:\n",
        "          text = re.sub(r',\\s*([^,]+)$', r' and \\1', text)\n",
        "        text += \" at the center\"\n",
        "    elif center_count > 0:\n",
        "      for roomObject in center_objects:\n",
        "        text += roomObject + \", \"\n",
        "      text = text[:-2]\n",
        "      text = re.sub(r',\\s*([^,]+)$', r' and \\1', text)\n",
        "      text += \" are located in the center\"\n",
        "      if edges_count > 0:\n",
        "        if center_count == 0:\n",
        "          text += \" and some \"\n",
        "        else:\n",
        "          text += \", some \"\n",
        "        for roomObject in edges_objects:\n",
        "          text += roomObject + \", \"\n",
        "        text = text[:-2]\n",
        "        if edges_count > 1:\n",
        "          text = re.sub(r',\\s*([^,]+)$', r' and \\1', text)\n",
        "        text += \" at the edges\"\n",
        "      if center_count > 0:\n",
        "        text += \" and some \"\n",
        "        for roomObject in corners_objects:\n",
        "          text += roomObject + \", \"\n",
        "        text = text[:-2]\n",
        "        if corners_count > 1:\n",
        "          text = re.sub(r',\\s*([^,]+)$', r' and \\1', text)\n",
        "        text += \" in the corners\"\n",
        "    self.text.append(text)\n",
        "\n",
        "    # A pares (una silla en frente de otra, etc)\n",
        "    text = \"\"\n",
        "\n",
        "\n",
        "  def generateImage(self):\n",
        "    # Normalize\n",
        "    imageMatrix = (self.matrix / np.max(self.matrix) * 255).astype(np.uint8)\n",
        "    color_map = cv2.applyColorMap(imageMatrix, cv2.COLORMAP_JET)\n",
        "    color_map = cv2.resize(color_map, (200, 200), interpolation=cv2.INTER_NEAREST)\n",
        "    return color_map"
      ]
    },
    {
      "cell_type": "markdown",
      "source": [
        "## Test"
      ],
      "metadata": {
        "id": "WUyvJ6a6iTLc"
      }
    },
    {
      "cell_type": "code",
      "source": [
        "room1 = Room((15, 15))\n",
        "room1.matrix"
      ],
      "metadata": {
        "id": "Xs4CYZ7DMkaw",
        "colab": {
          "base_uri": "https://localhost:8080/"
        },
        "outputId": "77cebd9f-9e1e-4243-eefb-c01b931e182d"
      },
      "execution_count": null,
      "outputs": [
        {
          "output_type": "execute_result",
          "data": {
            "text/plain": [
              "array([[0, 0, 0, 0, 0, 0, 0, 0, 0, 0, 0, 0, 0, 0, 0],\n",
              "       [0, 0, 0, 0, 0, 0, 0, 0, 0, 0, 0, 0, 0, 0, 0],\n",
              "       [0, 0, 0, 0, 0, 0, 0, 0, 0, 0, 0, 0, 0, 0, 0],\n",
              "       [0, 0, 0, 0, 0, 0, 0, 0, 0, 0, 0, 0, 0, 0, 0],\n",
              "       [0, 0, 0, 0, 0, 0, 0, 0, 0, 0, 0, 0, 0, 0, 0],\n",
              "       [0, 0, 0, 0, 0, 0, 0, 0, 0, 0, 0, 0, 0, 0, 0],\n",
              "       [0, 0, 0, 0, 0, 0, 0, 0, 0, 0, 0, 0, 0, 0, 0],\n",
              "       [0, 0, 0, 0, 0, 0, 0, 0, 0, 0, 0, 0, 0, 0, 0],\n",
              "       [0, 0, 0, 0, 0, 0, 0, 0, 0, 0, 0, 0, 0, 0, 0],\n",
              "       [0, 0, 0, 0, 0, 0, 0, 0, 0, 0, 0, 0, 0, 0, 0],\n",
              "       [0, 0, 0, 0, 0, 0, 0, 0, 0, 0, 0, 0, 0, 0, 0],\n",
              "       [0, 0, 0, 0, 0, 0, 0, 0, 0, 0, 0, 0, 0, 0, 0],\n",
              "       [0, 0, 0, 0, 0, 0, 0, 0, 0, 0, 0, 0, 0, 0, 0],\n",
              "       [0, 0, 0, 0, 0, 0, 0, 0, 0, 0, 0, 0, 0, 0, 0],\n",
              "       [0, 0, 0, 0, 0, 0, 0, 0, 0, 0, 0, 0, 0, 0, 0]])"
            ]
          },
          "metadata": {},
          "execution_count": 3
        }
      ]
    },
    {
      "cell_type": "code",
      "source": [
        "room1.addObject(\"chair\", 2, \"bottom_right\")\n",
        "room1.addObject(\"chair\", 2, \"center_top\")\n",
        "room1.addObject(\"chair\", 2, \"center_left\")\n",
        "room1.addObject(\"chair\", 2, \"center_right\")\n",
        "room1.addObject(\"door\", 1, \"bottom_left\")\n",
        "room1.addObject(\"door\", 1, \"bottom_center\")\n",
        "room1.addObject(\"table\", 5, \"center\")\n",
        "room1.addObject(\"table\", 3, \"top_left\")\n",
        "room1.addObject(\"table\", 2, \"top_right\")\n",
        "\n",
        "print(room1.matrix, \"\\n\")\n",
        "room1.generateText()\n",
        "print(room1.text)"
      ],
      "metadata": {
        "colab": {
          "base_uri": "https://localhost:8080/"
        },
        "id": "gjpr7CP18aJu",
        "outputId": "5e73c33e-4f64-40fa-90f6-e29dde3f6c3a"
      },
      "execution_count": null,
      "outputs": [
        {
          "output_type": "stream",
          "name": "stdout",
          "text": [
            "[[1 1 1 0 0 0 2 2 0 0 0 0 0 1 1]\n",
            " [1 1 1 0 0 0 2 2 0 0 0 0 0 1 1]\n",
            " [1 1 1 0 0 0 0 0 0 0 0 0 0 0 0]\n",
            " [0 0 0 0 0 0 0 0 0 0 0 0 0 0 0]\n",
            " [0 0 0 0 0 0 0 0 0 0 0 0 0 0 0]\n",
            " [0 0 0 0 0 1 1 1 1 1 0 0 0 0 0]\n",
            " [2 2 0 0 0 1 1 1 1 1 0 0 0 2 2]\n",
            " [2 2 0 0 0 1 1 1 1 1 0 0 0 2 2]\n",
            " [0 0 0 0 0 1 1 1 1 1 0 0 0 0 0]\n",
            " [0 0 0 0 0 1 1 1 1 1 0 0 0 0 0]\n",
            " [0 0 0 0 0 0 0 0 0 0 0 0 0 0 0]\n",
            " [0 0 0 0 0 0 0 0 0 0 0 0 0 0 0]\n",
            " [0 0 0 0 0 0 0 0 0 0 0 0 0 0 0]\n",
            " [0 0 0 0 0 0 0 0 0 0 0 0 0 2 2]\n",
            " [3 0 0 0 0 0 0 3 0 0 0 0 0 2 2]] \n",
            "\n",
            "['There are 4 chairs at bottom_right, center_top, center_left, center_right, 2 doors at bottom_left, bottom_center and 3 tables at center, top_left, top_right', 'Some chair, door and tables are located in the corners, some chairs and door at the edges and some table in the center']\n"
          ]
        }
      ]
    },
    {
      "cell_type": "code",
      "source": [
        "from google.colab.patches import cv2_imshow\n",
        "cv2_imshow(room1.generateImage())"
      ],
      "metadata": {
        "colab": {
          "base_uri": "https://localhost:8080/",
          "height": 217
        },
        "id": "17exYKbIfg44",
        "outputId": "d9e53c67-5b50-433f-8c48-1531086ad514"
      },
      "execution_count": null,
      "outputs": [
        {
          "output_type": "display_data",
          "data": {
            "text/plain": [
              "<PIL.Image.Image image mode=RGB size=200x200 at 0x790599BF2440>"
            ],
            "image/png": "[encoded data removed]"
          },
          "metadata": {}
        }
      ]
    },
    {
      "cell_type": "markdown",
      "source": [
        "## Repetición en bucle"
      ],
      "metadata": {
        "id": "_uX5L4ubJErx"
      }
    },
    {
      "cell_type": "code",
      "source": [
        "from google.colab import drive\n",
        "drive.mount('/content/drive')\n",
        "\n",
        "ruta_base = \"/content/drive/MyDrive/CUARTO/TFG Pablo Pérez González. Videojuegos/data\"\n"
      ],
      "metadata": {
        "colab": {
          "base_uri": "https://localhost:8080/"
        },
        "id": "rUU9FW_Dmpp4",
        "outputId": "6c44923f-573f-425c-cf79-e0162b61e0be"
      },
      "execution_count": null,
      "outputs": [
        {
          "output_type": "stream",
          "name": "stdout",
          "text": [
            "Mounted at /content/drive\n"
          ]
        }
      ]
    },
    {
      "cell_type": "code",
      "source": [
        "database_size = 30\n",
        "room_size = (15, 15)\n",
        "limit_of_elements = (2, 7)\n",
        "elements_types = len(Room.objects)\n",
        "positions = [\n",
        "    \"top_left\", \"center_top\", \"top_right\",\n",
        "    \"center_left\", \"center\", \"center_right\",\n",
        "    \"bottom_left\", \"center_bottom\", \"bottom_right\"\n",
        "]\n",
        "\n",
        "all_rooms = []\n",
        "\n",
        "for i in range(database_size):\n",
        "  room = Room(room_size)\n",
        "  number_elements = random.randint(limit_of_elements[0], limit_of_elements[1])\n",
        "  for i in range(number_elements):\n",
        "    element = random.randint(0, elements_types -1)\n",
        "    size = random.randint(1, int(min(room_size) / 2))\n",
        "    position = positions[random.randint(0, len(positions)-1)]\n",
        "    room.addObject(Room.objects[element], size, position)\n",
        "  room.generateText()\n",
        "  all_rooms.append(room)\n",
        "  # print(room.matrix, \"\\n\")\n",
        "  ruta_imagen_drive = ruta_base + \"/room_\" + str(i) + \".jpg\"\n",
        "  cv2.imwrite(ruta_imagen_drive, room.generateImage())\n",
        "  ruta_text_drive = ruta_base + \"/room_\" + str(i) + \".txt\"\n",
        "  with open(ruta_text_drive , 'w', encoding=\"utf-8\") as file:\n",
        "    file.write(\"\\n\".join(room.text))\n"
      ],
      "metadata": {
        "id": "Zzb4dVcVJJO1"
      },
      "execution_count": null,
      "outputs": []
    }
  ]
}